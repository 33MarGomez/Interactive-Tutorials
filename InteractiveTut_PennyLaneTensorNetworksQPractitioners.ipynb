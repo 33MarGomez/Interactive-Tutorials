{
  "nbformat": 4,
  "nbformat_minor": 0,
  "metadata": {
    "colab": {
      "provenance": []
    },
    "kernelspec": {
      "name": "python3",
      "display_name": "Python 3"
    },
    "language_info": {
      "name": "python"
    }
  },
  "cells": [
    {
      "cell_type": "markdown",
      "source": [
        "#*PennyLane.ai Companion Workbook:* Introducing tensor networks for quantum practitioners by Emiliano Godinez\n",
        "\n",
        "**Assembled: Marco Gomez BSc.**\n",
        "\n",
        "Some parts of this tutorial may not be totally clear if this is your first exposure to tensors. Particularly, the linear algebra requirements for chemistry practitioners do not demonstrate multi-dimensional arrays.\n",
        "\n",
        "In this tutorial, I will provide answer keys and additional examples to PennyLane's tensor networks tutorial. I will provide additional commentary to confirm your personal hypotheses and check that you're on the right track. I also found a mistake."
      ],
      "metadata": {
        "id": "1ot1OqTzp8ij"
      }
    },
    {
      "cell_type": "markdown",
      "source": [
        "##Notation & Motivation\n",
        "To start, when I refer to a traditional matrix, I mean column by row forms you see in a typical Linear Algebra course. These are called Rank 2 Tensors throughout the source literature. Any Rank 1 tensor is a column vector, but PennyLane adopts a row-vector notation specifically because $\\bigl< \\psi |$ is the basis of expanding any quantum state into a density description. For example,\n",
        "\n",
        "$$ \\begin{bmatrix} l_1\\\\l_2 \\end{bmatrix} \\begin{bmatrix}\\sigma_1 & \\sigma_2 \\end{bmatrix} = \\begin{bmatrix} l_1\\sigma_1 & l_1\\sigma_2 \\\\ l_2\\sigma_1 & l_2\\sigma_2 \\end{bmatrix}$$\n",
        "\n",
        "This particular example is descriptive of a spin-orbit coupling description, whose eigenvalues would be L + S, where individual spins are in row form. I aim only to rationalize the row-vector form, throughout this document, I call them vectors to make it easier to relate linear algebra concepts.\n",
        "\n",
        "A traditional tensor is Rank 4, and I reserve that terminology because it represents how tensors are colloquially described: *matrix of a matrix.* This is descriptive of an $n^2$ description such that every element of an n by n matrix is a scalar to matrix n by n. Rank 4 does occur in the tutorial and throughout this document.\n",
        "\n",
        "$$\\begin{bmatrix}1&2\\\\3&4 \\end{bmatrix} \\otimes \\begin{bmatrix}5&6\\\\7&8 \\end{bmatrix} = \\begin{bmatrix} 1*\\begin{bmatrix}5&6\\\\7&8 \\end{bmatrix} & 2*\\begin{bmatrix}5&6\\\\7&8 \\end{bmatrix}\\\\ 3*\\begin{bmatrix}5&6\\\\7&8 \\end{bmatrix} & 4*\\begin{bmatrix}5&6\\\\7&8 \\end{bmatrix} \\end{bmatrix}$$\n",
        "\n",
        "As described. Don't worry about what the x-circle means, but as can be seen the product has 16 elements."
      ],
      "metadata": {
        "id": "80IB1qdyrBht"
      }
    },
    {
      "cell_type": "markdown",
      "source": [
        "##The Cost of Contracting a Network shows how they work\n",
        "\n",
        "You ought to skip ahead to section, \"The cost of contracting a network\" where the Einstein summation function is introduced, contextualizing the first sections' index work. Einstein summation just means comparing dimensionality and multiplying the same occuring index in a sum. Briefly, in spacetime, dimensionality doesn't change so we named it after the famous fellow who invented it. What happens is **every time a number is shared by tensors we go down a list and multiply the largest element that fits.**\n",
        "\n",
        "Now returning to the first section, we'll run through the np.arange example. All that arange does is generate numbers 1-6, and reshape changes it into a matrix of (right to left) number of elements in a column, number of columns ie rows, number of traditional matrices. To reiterate, the first number in arange() is the vector of whose elements are traditional matrices."
      ],
      "metadata": {
        "id": "365m-b68ERbA"
      }
    },
    {
      "cell_type": "code",
      "source": [
        "import numpy as np\n",
        "\n",
        "\n",
        "A = np.arange(6).reshape(1, 2, 3) #ijk\n",
        "B = np.arange(6).reshape(2, 3, 1) #jlm\n",
        "C = np.arange(6).reshape(3, 1, 2) #kmn\n",
        "\n",
        "print(A)\n",
        "print(B)\n",
        "print(C)\n",
        "\n",
        "print(\"---\")\n",
        "print('A is related to B by dimension j: respectively *column* count and *traditional matrix* count')\n",
        "print('B is related to C by dimension m: respectively *element in column* and *column* count')\n",
        "print('A is related to C by dimension k: respectively *element in column* and *traditional matrix* count')\n",
        "print('A contributes its traditional matrix count, B contributes its column count, C contributes its columnar element count.')\n",
        "print(\"---\")\n",
        "\n",
        "print(\"Every row vector of B is a scalar to each of the rows of C. This occur across two unique traditional matrices of B,\\n\" +\n",
        "       \"while the replication of rows resulted from k. The latter point is read from ...,k,n and the former j,... or in totality as l along every k. \\n\" +\n",
        "       \"or again in totality as every corresponding m element of B to rows m of C.\")\n",
        "BC = np.einsum(\"jlm,kmn -> jlkn\",B,C)\n",
        "print(BC)\n",
        "A_BC = np.einsum(\"ijk,jlkn -> iln\",A,BC)\n",
        "print(A_BC)\n",
        "print(\"To every k row of BC is assigned a replicated scalar element k of A. The elements change according to row j of A and unique subtensor j of BC.\\n\" +\n",
        "      \"Try finding the second row entry of the final matrix, n = 1. The n stay aligned, and you sum all of the elements with the corresponding scalars of \\n\" +\n",
        "      \"the second matrix occuring in each j-tensor ie 2*1 + 4*3 + 8*4 + 16*5. \\n\" +\n",
        "      \"We conclude that the contracted summation takes 'external' information j to determine l position of n. \\n\"+\n",
        "      \"to concatenate basis vector variation j along j traditional tensors that counted l (kn) subunits.\")"
      ],
      "metadata": {
        "id": "lKvwBQLGbB_S"
      },
      "execution_count": null,
      "outputs": []
    },
    {
      "cell_type": "code",
      "source": [
        "import numpy as np\n",
        "\n",
        "\n",
        "A = np.arange(6).reshape(1, 2, 3) #ijk\n",
        "B = np.arange(6).reshape(2, 3, 1) #jlm\n",
        "C = np.arange(6).reshape(3, 1, 2) #kmn\n",
        "\n",
        "print(A)\n",
        "print(B)\n",
        "print(C)\n",
        "\n",
        "print(\"---\")\n",
        "print('A is related to B by dimension j: respectively *column* count and *traditional matrix* count')\n",
        "print('B is related to C by dimension m: respectively *element in column* and *column* count')\n",
        "print('A is related to C by dimension k: respectively *element in column* and *traditional matrix* count')\n",
        "print('A contributes its traditional matrix count, B contributes its column count, C contributes its columnar element count.')\n",
        "print(\"---\")\n",
        "\n",
        "print(\"k forms tensors perserving count down j, each traditional tensor in the product being a corresponding position in j summed across l:\\n\"+\n",
        "      \"to form the rows of the product in each k tensor by summing B_l element between matrix systems\"+\n",
        "      \"0*0 + 3*3 \\n\" +\n",
        "      \"0*3 + 3*4 = 12\" +\n",
        "      \"1*1 + 4*4 = 17\")\n",
        "\n",
        "AB = np.einsum(\"ijk,jlm -> iklm\",A,B)\n",
        "print(AB)\n",
        "AB_C = np.einsum(\"iklm,kmn -> iln\",AB,C)\n",
        "print(AB_C)\n",
        "\n",
        "print(\"Working with an n element, assign its individual row to corresponding row in AB, across tensors.\"+\n",
        "      \"Summing the elements makes corresponding l row and n in the product.\" +\n",
        "      \"12*2 +15*4 = 85\" +\n",
        "      \"17*2 + 22*4 = 122\" +\n",
        "      \"9*1 + 12*3 + 15*5 = 120\")"
      ],
      "metadata": {
        "id": "iPv1zKXBofVF"
      },
      "execution_count": null,
      "outputs": []
    },
    {
      "cell_type": "markdown",
      "source": [
        "I teach schoolchildren prime factorization using the number 24. It's a great number because it has very familiar numbers that can be combined to seperate out how stuff multiplies and adds together: $8*3$ equivalent to $6*4$ and so on. I'll run the .arange() example this time using .arange(24) and the unique array of dimensions (2,3,4) so that no dimension becomes trivial like in the source examples."
      ],
      "metadata": {
        "id": "wNDSpFHPHPW7"
      }
    },
    {
      "cell_type": "code",
      "source": [
        "import numpy as np\n",
        "\n",
        "A = np.arange(24).reshape(2, 3, 4) #ijk\n",
        "B = np.arange(24).reshape(3, 4, 2) #jlm\n",
        "C = np.arange(24).reshape(4, 2, 3) #kmn\n",
        "\n",
        "print(str(A) + \" = A\")\n",
        "print(str(B) + \" = B\")\n",
        "print(str(C) + \" = C\")\n",
        "\n",
        "AB = np.einsum(\"ijk,jlm -> iklm\",A,B)\n",
        "print(str(AB) + \" = AB\")\n",
        "AB_C = np.einsum(\"iklm,kmn -> iln\",AB,C)\n",
        "print(str(AB_C) + \" = ABC\")\n",
        "\n",
        "print(\"Expediting the this process, I'll just list out key numbers along the important dimensions\" +\n",
        "    \"\\n\"+\n",
        "      \"\\n\" +\n",
        "      \"\\n\" +\n",
        "      \"0*1 + 8*4 + 8*16 = 160 \\n\" +\n",
        "      \"1*0 + 8*5 + 16*9 = 184 \\n\" +\n",
        "      \"2*0 + 10*4 + 18*8 = 184 \\n\" +\n",
        "      \"12*0 + 16*8 + 20*16 = 448 \\n\" +\n",
        "      \"\\n\" +\n",
        "      \"0*160 + 3*172 + 6*184 + 9*199 + 12*208 + 15*226 + 18*232 + 21*253 = \" + str(0*160 + 3*172 + 6*184 + 9*199 + 12*208 + 15*226 + 18*232 + 21*253) + \"\\n\" +\n",
        "      \"0*184 + 3*196 + 6*214 + 9*229 + 12*244 + 15*262 + 18*274 + 21*295 = \" + str(0*184 + 3*196 + 6*214 + 9*229 + 12*244 + 15*262 + 18*274 + 21*295) + \"\\n\" +\n",
        "      \"1*160 + 4*172 + 7*184 + 10*199 + 13*208 + 16*226 + 19*232 + 22*253 = \" + str(1*160 + 4*172 + 7*184 + 10*199 + 13*208 + 16*226 + 19*232 + 22*253) + \"\\n\"+\n",
        "      \"0*448 + 3*496 + 6*472 + 9*523 + 12*496 + 15*550 + 18*520 + 21*577 = \" + str(0*448 + 3*496 + 6*472 + 9*523 + 12*496 + 15*550 + 18*520 + 21*577) + \"\\n\"\n",
        "      )\n"
      ],
      "metadata": {
        "id": "wcYK5x2lWmdW"
      },
      "execution_count": null,
      "outputs": []
    },
    {
      "cell_type": "code",
      "source": [
        "import numpy as np\n",
        "\n",
        "A = np.arange(24).reshape(2, 3, 4) #ijk\n",
        "B = np.arange(24).reshape(3, 4, 2) #jlm\n",
        "C = np.arange(24).reshape(4, 2, 3) #kmn\n",
        "\n",
        "print(str(A) + \" = A\")\n",
        "print(str(B) + \" = B\")\n",
        "print(str(C) + \" = C\")\n",
        "\n",
        "BC = np.einsum(\"jlm,kmn -> jlkn\",B,C)\n",
        "print(str(BC) + \" = BC\")\n",
        "A_BC = np.einsum(\"ijk,jlkn -> iln\",A,BC)\n",
        "print(str(A_BC) + \" = ABC\")\n",
        "\n",
        "print(\"\\n\"+\n",
        "      \"\\n\" +\n",
        "      \"\\n\" +\n",
        "      \"0*0 + 1*3 = 3 \\n\" +\n",
        "      \"0*1 + 1*4 = 4 \\n\" +\n",
        "      \"0*6 + 1*9 = 9 \\n\" +\n",
        "      \"within j = 1, l = 1 of the product \\n\" +\n",
        "      \"2*0 + 3*3 = 9 \\n\" +\n",
        "      \"2*6 + 3*9 = 39 \\n\" +\n",
        "      \"within j = 1 l = 2 of the product \\n\" +\n",
        "      \"8*0 + 9*3 = 27 \\n\" +\n",
        "      \"at j = 2 of the product\" +\n",
        "      \"\\n\" +\n",
        "      \"0*3 + 1*9 + 2*15 + 3*21 + 4*27 + 5*129 + 6*231 + 7*333 + 8*51 + 9*249 + 10*447 + 11*645 = \" + str(0*3 + 1*9 + 2*15 + 3*21 + 4*27 + 5*129 + 6*231 + 7*333 + 8*51 + 9*249 + 10*447 + 11*645) + \"\\n\"+\n",
        "      \"0*9 + 1*39 + 2*69 + 3*99 + 4*33 + 5*159 + 6*285 + 7*411 + 8*57 + 9*279 + 10*501 + 11*723 = \" + str(0*9 + 1*39 + 2*69 + 3*99 + 4*33 + 5*159 + 6*285 + 7*411 + 8*57 + 9*279 + 10*501 + 11*723) + \"\\n\"\n",
        "      )"
      ],
      "metadata": {
        "id": "r5z-3V6Bcrwb"
      },
      "execution_count": null,
      "outputs": []
    },
    {
      "cell_type": "markdown",
      "source": [
        "In the BC contraction, we undertake the following process j times: Down a row of B, multiply the leading entry (or nth entry) of C and add them for the kth row. l-row of B determines the resultant traditional tensor that it occupies. j is made up of these traditional tensors, meaning this has to be done for all three sets of four rows of B. n originally belonged to C, and is responsible for the 3 elements of each row.\n",
        "\n",
        "In the A/BC contraction, i variations of this process exist. Going down an A row, each element is assigned to the leading (or n) entry within an l tensor. The same l-tensor position is used across j-system, and every time a row changes in A the new j-tensor system is referenced at the same l. These are summed for the l by n system, since each new j-at-l creates a row entry. n stays at n."
      ],
      "metadata": {
        "id": "yIBcY9rCHXSx"
      }
    },
    {
      "cell_type": "markdown",
      "source": [
        "## Diagramatic Constructions\n",
        "\n",
        "Dual space constructions are row-vectors whereas a ket is a Hilbert space vector. For this reason, it might be easier to use the traditional linear algebra terms for each: a row, dual-space vector is equivalent to parameterization of components in a columnar, Hilbert space vector. A Hilbert space just means that the distance encoded by a basis vector shrinks faster than the basis vector itself in a manifold, it's convergence, but it might as well be a description of components for exactly this reason.\n",
        "\n",
        "The first example:\n",
        "\n",
        "$$(w)_j = \\sum_i (G)_{j,i} (v_i)$$\n",
        "\n",
        "Is translated from the diagrammatic interpretation as the j-parameterization to vector i, in other words, G is j parameterization of the i components of v. For example, j = 5 and i = 3:\n",
        "\n",
        "$$\\begin{bmatrix} g_{11}&g_{12}&g_{13}&g_{14}&g_{15} \\\\ g_{21}&g_{22}&g_{23}&g_{24}&g_{25} \\\\ g_{31}&g_{32}&g_{33}&g_{34}&g_{35} \\\\ g_{41}&g_{42}&g_{43}&g_{44}&g_{45} \\\\ g_{51}&g_{52}&g_{53}&g_{54}&g_{55}\\end{bmatrix} \\begin{bmatrix} V_1\\\\V_2\\\\V_3\\\\V_4\\\\V_5\\end{bmatrix}$$\n",
        "\n",
        "$$= \\begin{bmatrix} g_{11}V_1 + g_{12}V_2 + g_{13}V_3 + g_{14}V_4 + g_{15}V_5 \\\\ g_{21}V_1 + g_{22}V_2 + g_{23}V_3 + g_{24}V_4 + g_{25}V_5 \\\\ g_{31}V_1 + g_{32}V_2 + g_{33}V_3 + g_{34}V_4 + g_{35}V_5 \\\\ g_{41}V_1 + g_{42}V_2 + g_{43}V_3 + g_{44}V_4 + g_{45}V_5 \\\\ g_{51}V_1 + g_{52}V_2 + g_{53}V_3 + g_{54}V_4 + g_{55}V_5 \\end{bmatrix}$$\n",
        "\n",
        "You might read the product's first element as the sum of what row1-of G encodes for each component of v, and so on. If you're not convinced, then if $V_1 = 2V_2$ and $V_2 = 2V_3$ then the components would occur regularly, but not trivially, with respect to the parameterization.\n",
        "\n",
        "I'm sure you can appreciate that the word parameterization is easier to imagine than input, and my provided definition of Hilbert space makes the input terminology obvious.\n",
        "\n",
        "The matrix product example is also fun, I retained the terminology in the demo:\n",
        "\n",
        "$$G^3_{k,i} = \\sum_j (G^2)_{k,j} (G^1)_{j,i}$$\n",
        "\n",
        "A classic point of any linear algebra class, a matrix is valid as long as number of columns matches number of rows. We'll do k = 2, j = 3, i = 2, and label $G^2$ elements with v and $G^1$ elements with q.\n",
        "\n",
        "$$\\begin{bmatrix}v_{11}&v_{12}&v_{13}\\\\v_{21}&v_{22}&v_{23}\\end{bmatrix} \\begin{bmatrix}q_{11}&q_{12}\\\\q_{21}&q_{22}\\\\q_{31}&q_{32}\\end{bmatrix}$$\n",
        "\n",
        "$$\\begin{bmatrix}(v_{11}q_{11} + v_{12}q_{21} + v_{13}q_{31})&(v_{11}q_{12} + v_{12}q_{22} + v_{13}q_{32})\\\\(v_{21}q_{11} + v_{22}q_{21} + v_{23}q_{31})&(v_{21}q_{12} + v_{22}q_{22} + v_{23}q_{32}) \\end{bmatrix}$$\n",
        "\n",
        "Along the k columns of the product, what changes is the parameterization of a single q column. Along the i-length row, the v parameterization is constant, but the q columns change.\n",
        "\n",
        "k is considered the dual-space variable because the row of $G^2$ encodes $G^1$ columnar contributions. i is the Hilbert space variable because its components cause the $G^2$ parameterization to occur in fixed ratios according to the column it occurs in."
      ],
      "metadata": {
        "id": "Ak3oQhoZ1Fv0"
      }
    },
    {
      "cell_type": "markdown",
      "source": [
        "##Constructing the CNOT matrix##\n",
        "\n",
        "$$CNOT = |0\\bigl> \\bigl<0| \\otimes I + |1\\bigl> \\bigl<1| \\otimes X$$\n",
        "\n",
        "$$\\begin{bmatrix}1\\\\0\\end{bmatrix}\\begin{bmatrix}1&0\\end{bmatrix}\\otimes\\begin{bmatrix}1&0\\\\0&1\\end{bmatrix} + \\begin{bmatrix}0\\\\1\\end{bmatrix}\\begin{bmatrix}0&1\\end{bmatrix}\\otimes\\begin{bmatrix}0&1\\\\1&0\\end{bmatrix}$$\n",
        "\n",
        "$$\\begin{bmatrix}1&0\\\\0&0\\end{bmatrix}\\otimes\\begin{bmatrix}1&0\\\\0&1\\end{bmatrix} + \\begin{bmatrix}0&0\\\\0&1\\end{bmatrix}\\otimes\\begin{bmatrix}0&1\\\\1&0\\end{bmatrix}$$\n",
        "\n",
        "$$\\begin{bmatrix}1&0&0&0\\\\0&1&0&0\\\\0&0&0&0\\\\0&0&0&0\\end{bmatrix} + \\begin{bmatrix}0&0&0&0\\\\0&0&0&0\\\\0&0&0&1\\\\0&0&1&0\\end{bmatrix} = \\begin{bmatrix}1&0&0&0\\\\0&1&0&0\\\\0&0&0&1\\\\0&0&1&0\\end{bmatrix}$$\n",
        "\n",
        "In the code below, I demonstrate the tensor construction they went with in the Einstein sum. As you can see, I tried some example elements before committing. An alternative strategy is $2*2*2 = 16$, so programming np.arange(16).reshape(2,2,2) then matching the 'i must be the internal row count, j says what's what, i is an individual column element' to the generated matrix. Make sure to immitate the np.array logic I have below so you can test yourself.\n",
        "\n",
        "Here is the mistake: the indexing should be iklm in the product, the source material lists it iklm."
      ],
      "metadata": {
        "id": "DxRXhOqcnC65"
      }
    },
    {
      "cell_type": "code",
      "source": [
        "import numpy as np\n",
        "\n",
        "#i is a row\n",
        "#j is identity, is it 1 or 0 in the basis, this will use their modded structure otherwise 1 and 2.\n",
        "#k is the column\n",
        "\n",
        "#1,0,1 is the first row, of the 0-state, column 1 = 1\n",
        "#1,0,2 is the first row, of the 0-state, column 2 = 0\n",
        "#1,1,1 is the first row, of the 1-state, column 1 = 0\n",
        "\n",
        "T_1 = np.array([[[1,0],[0,0]],[[0,0],[0,1]]])\n",
        "print(str(T_1) + \" = T_1\")\n",
        "\n",
        "T_2 = np.array([[[1,0],[0,1]],[[0,1],[1,0]]])\n",
        "print(str(T_2) + \" = T_2\")\n",
        "\n",
        "CNOT = np.einsum(\"ijk,ljm -> iklm\",T_1,T_2)\n",
        "\n",
        "print(str(CNOT) + \" = CNOT\")\n",
        "\n",
        "#The tutorial is wrong, this indexing properly renders back CNOT.\n",
        "\n",
        "#demo0state = [[[1,0],[0,0]]]\n",
        "#copydemo = np.einsum(\"ijk,ilk ->jl\",T_1,demo0state)\n",
        "#print(copydemo)\n",
        "\n",
        "#demo1state = [[[0,0],[0,1]]]\n",
        "#copydemo = np.einsum(\"ijk,ilk ->jl\",T_1,demo1state)\n",
        "#print(copydemo)"
      ],
      "metadata": {
        "id": "MM5L9A4x9-8Y"
      },
      "execution_count": null,
      "outputs": []
    },
    {
      "cell_type": "markdown",
      "source": [
        "##Tips for tensors:\n",
        "\n",
        "-Start by looking at the common letters and counting brackets to get an idea of the dimensionality. Make sure it matches.\n",
        "\n",
        "-In the second contraction, look at the smallest dimension. Chances are it remained untouched at some earlier step, and carries on some parallel structure.\n",
        "\n",
        "-Use dimensions that survive in the product, to orient yourself around how each sum creates a new entry.\n",
        "\n",
        "##Tips for clean programming:\n",
        "\n",
        "-I intentionally imitated the tutorial's notation. When programming yourself, write variables in lowercase to make your code easier to check for bad info you fed it as a variable versus architectural mistakes."
      ],
      "metadata": {
        "id": "La-CQ1ALYV61"
      }
    }
  ]
}